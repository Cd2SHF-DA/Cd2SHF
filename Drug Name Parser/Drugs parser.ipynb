{
 "cells": [
  {
   "cell_type": "code",
   "execution_count": 1,
   "id": "c9c73b47",
   "metadata": {},
   "outputs": [],
   "source": [
    "import pandas as pd\n",
    "import xlwings as xw\n",
    "from bs4 import BeautifulSoup\n",
    "import requests\n",
    "from selenium import webdriver\n",
    "from selenium.webdriver.common.by import By\n",
    "from selenium.webdriver.common.keys import Keys\n",
    "from selenium.webdriver.common.action_chains import ActionChains\n",
    "import time\n",
    "from itertools import chain\n",
    "from tqdm import tqdm"
   ]
  },
  {
   "cell_type": "code",
   "execution_count": 2,
   "id": "2bec397f",
   "metadata": {},
   "outputs": [],
   "source": [
    "url = 'http://www.rlsnet.ru/drugs/ukazatel/c0'"
   ]
  },
  {
   "cell_type": "code",
   "execution_count": 3,
   "id": "e18296d9",
   "metadata": {},
   "outputs": [],
   "source": [
    "headers = {'User-Agent': 'Mozilla/5.0 (Windows NT 10.0; Win64; x64) AppleWebKit/537.36 (KHTML, like Gecko) Chrome/111.0.0.0 Safari/537.36'}\n",
    "response = requests.get(url, headers=headers)"
   ]
  },
  {
   "cell_type": "code",
   "execution_count": 4,
   "id": "b3dc2152",
   "metadata": {},
   "outputs": [
    {
     "name": "stdout",
     "output_type": "stream",
     "text": [
      "200\n"
     ]
    }
   ],
   "source": [
    "print(response.status_code)"
   ]
  },
  {
   "cell_type": "code",
   "execution_count": 5,
   "id": "5e3b0d3e",
   "metadata": {},
   "outputs": [],
   "source": [
    "soup = BeautifulSoup(response.text, \"html.parser\")"
   ]
  },
  {
   "cell_type": "code",
   "execution_count": 6,
   "id": "19ddd6b7",
   "metadata": {},
   "outputs": [],
   "source": [
    "links_div = soup.find('div', {'id': 'letters-ru'})"
   ]
  },
  {
   "cell_type": "code",
   "execution_count": 7,
   "id": "0ce35614",
   "metadata": {},
   "outputs": [],
   "source": [
    "links = links_div.find_all('a')"
   ]
  },
  {
   "cell_type": "code",
   "execution_count": 8,
   "id": "8ae2beb2",
   "metadata": {},
   "outputs": [
    {
     "name": "stdout",
     "output_type": "stream",
     "text": [
      "200 https://www.rlsnet.ru/drugs/ukazatel/c0\n",
      "200 https://www.rlsnet.ru/drugs/ukazatel/c1\n",
      "200 https://www.rlsnet.ru/drugs/ukazatel/c2\n",
      "200 https://www.rlsnet.ru/drugs/ukazatel/c3\n",
      "200 https://www.rlsnet.ru/drugs/ukazatel/c4\n",
      "200 https://www.rlsnet.ru/drugs/ukazatel/c5\n",
      "200 https://www.rlsnet.ru/drugs/ukazatel/c6\n",
      "200 https://www.rlsnet.ru/drugs/ukazatel/c7\n",
      "200 https://www.rlsnet.ru/drugs/ukazatel/c8\n",
      "200 https://www.rlsnet.ru/drugs/ukazatel/c9\n",
      "200 https://www.rlsnet.ru/drugs/ukazatel/ca\n",
      "200 https://www.rlsnet.ru/drugs/ukazatel/cb\n",
      "200 https://www.rlsnet.ru/drugs/ukazatel/cc\n",
      "200 https://www.rlsnet.ru/drugs/ukazatel/cd\n",
      "200 https://www.rlsnet.ru/drugs/ukazatel/ce\n",
      "200 https://www.rlsnet.ru/drugs/ukazatel/cf\n",
      "200 https://www.rlsnet.ru/drugs/ukazatel/d0\n",
      "200 https://www.rlsnet.ru/drugs/ukazatel/d1\n",
      "200 https://www.rlsnet.ru/drugs/ukazatel/d2\n",
      "200 https://www.rlsnet.ru/drugs/ukazatel/d3\n",
      "200 https://www.rlsnet.ru/drugs/ukazatel/d4\n",
      "200 https://www.rlsnet.ru/drugs/ukazatel/d5\n",
      "200 https://www.rlsnet.ru/drugs/ukazatel/d6\n",
      "200 https://www.rlsnet.ru/drugs/ukazatel/d7\n",
      "200 https://www.rlsnet.ru/drugs/ukazatel/d8\n",
      "200 https://www.rlsnet.ru/drugs/ukazatel/dd\n",
      "200 https://www.rlsnet.ru/drugs/ukazatel/de\n",
      "200 https://www.rlsnet.ru/drugs/ukazatel/df\n",
      "200 https://www.rlsnet.ru/drugs/ukazatel/1\n"
     ]
    }
   ],
   "source": [
    "\n",
    "full_list = []\n",
    "for link in links:\n",
    "    url = link.get('href')\n",
    "    headers = {'User-Agent': 'Mozilla/5.0 (Windows NT 10.0; Win64; x64) AppleWebKit/537.36 (KHTML, like Gecko) Chrome/111.0.0.0 Safari/537.36'}\n",
    "    response = requests.get(url, headers=headers)\n",
    "    soup = BeautifulSoup(response.text, \"html.parser\")\n",
    "    print(response.status_code, url)\n",
    "    main_div = soup.find('div', {'class': 'tab-content'})\n",
    "    drugs_div = main_div.find_all('div', class_='b-alphabet-list')\n",
    "    drugs_list = []\n",
    "    data2 = '' \n",
    "    for data in drugs_div:\n",
    "        data1 = data.find_all('a', class_='link')        \n",
    "        for i in range(len(data1)):\n",
    "            data2 = data1[i].text.strip().split('\\n')\n",
    "            for k in data2:\n",
    "                name = k.strip().split('\\n')\n",
    "                drugs_list.append(name)\n",
    "    drugs_list = list(chain.from_iterable(drugs_list))\n",
    "    full_list.append(drugs_list)\n",
    "    time.sleep(3)"
   ]
  },
  {
   "cell_type": "code",
   "execution_count": 9,
   "id": "1d6024dc",
   "metadata": {},
   "outputs": [],
   "source": [
    "final_list = list(chain.from_iterable(full_list))"
   ]
  },
  {
   "cell_type": "code",
   "execution_count": 10,
   "id": "c496dd85",
   "metadata": {},
   "outputs": [
    {
     "data": {
      "text/plain": [
       "26902"
      ]
     },
     "execution_count": 10,
     "metadata": {},
     "output_type": "execute_result"
    }
   ],
   "source": [
    "len(final_list)"
   ]
  },
  {
   "cell_type": "code",
   "execution_count": 11,
   "id": "9d6dced1",
   "metadata": {},
   "outputs": [],
   "source": [
    "df = pd.DataFrame(final_list)"
   ]
  },
  {
   "cell_type": "code",
   "execution_count": 12,
   "id": "d6e32d8e",
   "metadata": {},
   "outputs": [],
   "source": [
    "df.rename(columns = {0:'Название л/с'}, inplace = True)"
   ]
  },
  {
   "cell_type": "code",
   "execution_count": 13,
   "id": "06ee976f",
   "metadata": {},
   "outputs": [],
   "source": [
    "df['Название л/с'] =df['Название л/с'].str.replace('®', '')"
   ]
  },
  {
   "cell_type": "code",
   "execution_count": 14,
   "id": "c20f0e96",
   "metadata": {},
   "outputs": [],
   "source": [
    "df = df.loc[~(df['Название л/с'].str[0].isin(['(']))&~(df['Название л/с'].str[-1].isin([')']))]"
   ]
  },
  {
   "cell_type": "code",
   "execution_count": 15,
   "id": "92aca06b",
   "metadata": {},
   "outputs": [],
   "source": [
    "df = df.reset_index(drop=True)"
   ]
  },
  {
   "cell_type": "code",
   "execution_count": 16,
   "id": "92bb2bfb",
   "metadata": {},
   "outputs": [],
   "source": [
    "df.to_excel('Список лекарств.xlsx')"
   ]
  },
  {
   "cell_type": "markdown",
   "id": "5a41d98f",
   "metadata": {},
   "source": [
    "Выгрузка групп для ЛС"
   ]
  },
  {
   "cell_type": "code",
   "execution_count": 23,
   "id": "6a619771",
   "metadata": {},
   "outputs": [],
   "source": [
    "df1 = pd.read_excel('Список лекарст.xlsx')"
   ]
  },
  {
   "cell_type": "code",
   "execution_count": 24,
   "id": "8e86289f",
   "metadata": {},
   "outputs": [],
   "source": [
    "drugs_name_list = df1['Название л/с'].tolist()"
   ]
  },
  {
   "cell_type": "code",
   "execution_count": 25,
   "id": "0871f285",
   "metadata": {},
   "outputs": [
    {
     "data": {
      "text/plain": [
       "15343"
      ]
     },
     "execution_count": 25,
     "metadata": {},
     "output_type": "execute_result"
    }
   ],
   "source": [
    "len(drugs_name_list)"
   ]
  },
  {
   "cell_type": "code",
   "execution_count": 26,
   "id": "270671fc",
   "metadata": {},
   "outputs": [],
   "source": [
    "driver = webdriver.Chrome() \n",
    "driver.get(\"https://www.rlsnet.ru\")"
   ]
  },
  {
   "cell_type": "code",
   "execution_count": 27,
   "id": "97295de7",
   "metadata": {},
   "outputs": [
    {
     "name": "stderr",
     "output_type": "stream",
     "text": [
      "100%|██████████████████████████████████████████████████████████████████████████████████| 10/10 [00:34<00:00,  3.47s/it]\n"
     ]
    }
   ],
   "source": [
    "drugs_gpoup_dict = {}\n",
    "for i in tqdm(range(0, 10)): #Выбор среза\n",
    "    element = driver.find_element(By.CLASS_NAME, 'form-control')\n",
    "    element.send_keys(drugs_name_list[i], Keys.ENTER)\n",
    "    time.sleep(3)\n",
    "    group_list = []\n",
    "    elem_list = []\n",
    "    try:\n",
    "        div_1 = driver.find_elements(By.CLASS_NAME, 'block')\n",
    "        for tag in div_1:\n",
    "            tag_name = tag.text\n",
    "            gr = 'В фармакологических группах'\n",
    "            el = 'В действующих веществах'\n",
    "            if gr in tag_name:\n",
    "                f_group = tag.find_element(By.TAG_NAME, 'ul')\n",
    "                farm_group = f_group.text\n",
    "                group_list.append(farm_group)\n",
    "            else:\n",
    "                pass\n",
    "            if el in tag_name:\n",
    "                el_group = tag.find_element(By.TAG_NAME, 'ul')\n",
    "                elem_group = el_group.text\n",
    "                elem_list.append(elem_group)\n",
    "            else:\n",
    "                pass\n",
    "    except:\n",
    "        print('Не найдено')\n",
    "    group_str = (''.join(group_list))\n",
    "    group_str = group_str.replace('\\n', '; ')\n",
    "    elem_str = (''.join(elem_list))\n",
    "    elem_str = elem_str.replace('\\n', '; ')\n",
    "    drugs_gpoup_dict.update({drugs_name_list[i]: [group_str, elem_str]})\n",
    "temp_df1 = pd.DataFrame(drugs_gpoup_dict)\n",
    "temp_df1 = temp_df1.T\n",
    "temp_df1.rename(columns = {0:'Фарм_группа', 1:'Действующее_вещество'}, inplace = True)"
   ]
  },
  {
   "cell_type": "code",
   "execution_count": 28,
   "id": "e3e2e683",
   "metadata": {},
   "outputs": [
    {
     "data": {
      "text/plain": [
       "10"
      ]
     },
     "execution_count": 28,
     "metadata": {},
     "output_type": "execute_result"
    }
   ],
   "source": [
    "len(temp_df1)"
   ]
  },
  {
   "cell_type": "code",
   "execution_count": 29,
   "id": "0b936a38",
   "metadata": {},
   "outputs": [
    {
     "data": {
      "text/html": [
       "<div>\n",
       "<style scoped>\n",
       "    .dataframe tbody tr th:only-of-type {\n",
       "        vertical-align: middle;\n",
       "    }\n",
       "\n",
       "    .dataframe tbody tr th {\n",
       "        vertical-align: top;\n",
       "    }\n",
       "\n",
       "    .dataframe thead th {\n",
       "        text-align: right;\n",
       "    }\n",
       "</style>\n",
       "<table border=\"1\" class=\"dataframe\">\n",
       "  <thead>\n",
       "    <tr style=\"text-align: right;\">\n",
       "      <th></th>\n",
       "      <th>Фарм_группа</th>\n",
       "      <th>Действующее_вещество</th>\n",
       "    </tr>\n",
       "  </thead>\n",
       "  <tbody>\n",
       "    <tr>\n",
       "      <th>А.Т.10</th>\n",
       "      <td>Корректоры метаболизма костной и хрящевой ткан...</td>\n",
       "      <td>Дигидротахистерол</td>\n",
       "    </tr>\n",
       "    <tr>\n",
       "      <th>Абаджио</th>\n",
       "      <td>Иммунодепрессанты</td>\n",
       "      <td>Терифлуномид</td>\n",
       "    </tr>\n",
       "    <tr>\n",
       "      <th>Абакавир</th>\n",
       "      <td>Средства для лечения ВИЧ-инфекции; Противовиру...</td>\n",
       "      <td>Абакавир; Абакавир + Зидовудин + Ламивудин; Аб...</td>\n",
       "    </tr>\n",
       "    <tr>\n",
       "      <th>Абакавир + Зидовудин + Ламивудин</th>\n",
       "      <td>Средства для лечения ВИЧ-инфекции в комбинациях</td>\n",
       "      <td>Абакавир + Зидовудин + Ламивудин; Абакавир; Зи...</td>\n",
       "    </tr>\n",
       "    <tr>\n",
       "      <th>Абакавир Канон</th>\n",
       "      <td>Средства для лечения ВИЧ-инфекции</td>\n",
       "      <td>Абакавир</td>\n",
       "    </tr>\n",
       "    <tr>\n",
       "      <th>Абакавир-АВС</th>\n",
       "      <td>Средства для лечения ВИЧ-инфекции</td>\n",
       "      <td>Абакавир</td>\n",
       "    </tr>\n",
       "    <tr>\n",
       "      <th>Абакавир-Эдвансд</th>\n",
       "      <td>Средства для лечения ВИЧ-инфекции</td>\n",
       "      <td>Абакавир</td>\n",
       "    </tr>\n",
       "    <tr>\n",
       "      <th>Абакавир/Ламивудин-Тева</th>\n",
       "      <td>Средства для лечения ВИЧ-инфекции в комбинация...</td>\n",
       "      <td>Абакавир + Ламивудин; Абакавир; Ламивудин</td>\n",
       "    </tr>\n",
       "    <tr>\n",
       "      <th>Абакавир+Ламивудин</th>\n",
       "      <td></td>\n",
       "      <td>Абакавир + Ламивудин; Абакавир + Ламивудин + З...</td>\n",
       "    </tr>\n",
       "    <tr>\n",
       "      <th>Абакавир+Ламивудин Сан</th>\n",
       "      <td></td>\n",
       "      <td></td>\n",
       "    </tr>\n",
       "  </tbody>\n",
       "</table>\n",
       "</div>"
      ],
      "text/plain": [
       "                                                                        Фарм_группа  \\\n",
       "А.Т.10                            Корректоры метаболизма костной и хрящевой ткан...   \n",
       "Абаджио                                                           Иммунодепрессанты   \n",
       "Абакавир                          Средства для лечения ВИЧ-инфекции; Противовиру...   \n",
       "Абакавир + Зидовудин + Ламивудин    Средства для лечения ВИЧ-инфекции в комбинациях   \n",
       "Абакавир Канон                                    Средства для лечения ВИЧ-инфекции   \n",
       "Абакавир-АВС                                      Средства для лечения ВИЧ-инфекции   \n",
       "Абакавир-Эдвансд                                  Средства для лечения ВИЧ-инфекции   \n",
       "Абакавир/Ламивудин-Тева           Средства для лечения ВИЧ-инфекции в комбинация...   \n",
       "Абакавир+Ламивудин                                                                    \n",
       "Абакавир+Ламивудин Сан                                                                \n",
       "\n",
       "                                                               Действующее_вещество  \n",
       "А.Т.10                                                            Дигидротахистерол  \n",
       "Абаджио                                                                Терифлуномид  \n",
       "Абакавир                          Абакавир; Абакавир + Зидовудин + Ламивудин; Аб...  \n",
       "Абакавир + Зидовудин + Ламивудин  Абакавир + Зидовудин + Ламивудин; Абакавир; Зи...  \n",
       "Абакавир Канон                                                             Абакавир  \n",
       "Абакавир-АВС                                                               Абакавир  \n",
       "Абакавир-Эдвансд                                                           Абакавир  \n",
       "Абакавир/Ламивудин-Тева                   Абакавир + Ламивудин; Абакавир; Ламивудин  \n",
       "Абакавир+Ламивудин                Абакавир + Ламивудин; Абакавир + Ламивудин + З...  \n",
       "Абакавир+Ламивудин Сан                                                               "
      ]
     },
     "execution_count": 29,
     "metadata": {},
     "output_type": "execute_result"
    }
   ],
   "source": [
    "temp_df1"
   ]
  },
  {
   "cell_type": "code",
   "execution_count": null,
   "id": "db993ad1",
   "metadata": {},
   "outputs": [],
   "source": [
    "temp_df1.to_excel('ЛС1.xlsx')"
   ]
  },
  {
   "cell_type": "code",
   "execution_count": null,
   "id": "eac870c7",
   "metadata": {},
   "outputs": [],
   "source": []
  }
 ],
 "metadata": {
  "kernelspec": {
   "display_name": "Python 3 (ipykernel)",
   "language": "python",
   "name": "python3"
  },
  "language_info": {
   "codemirror_mode": {
    "name": "ipython",
    "version": 3
   },
   "file_extension": ".py",
   "mimetype": "text/x-python",
   "name": "python",
   "nbconvert_exporter": "python",
   "pygments_lexer": "ipython3",
   "version": "3.9.13"
  }
 },
 "nbformat": 4,
 "nbformat_minor": 5
}
